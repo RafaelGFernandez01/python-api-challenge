{
 "cells": [
  {
   "cell_type": "markdown",
   "metadata": {},
   "source": [
    "# VacationPy\n",
    "----\n",
    "\n",
    "#### Note\n",
    "* Keep an eye on your API usage. Use https://developers.google.com/maps/reporting/gmp-reporting as reference for how to monitor your usage and billing.\n",
    "\n",
    "* Instructions have been included for each segment. You do not have to follow them exactly, but they are included to help you think through the steps."
   ]
  },
  {
   "cell_type": "code",
   "execution_count": 1,
   "metadata": {},
   "outputs": [],
   "source": [
    "# Dependencies and Setup\n",
    "import matplotlib.pyplot as plt\n",
    "import pandas as pd\n",
    "import numpy as np\n",
    "import requests\n",
    "import gmaps\n",
    "import os\n",
    "import requests, json\n",
    "\n",
    "# Import API key\n",
    "from config import g_key\n",
    "\n",
    "# configure key\n",
    "gmaps.configure(api_key=g_key)\n",
    "\n",
    "# cities\n",
    "from lib import get_city_weather_df"
   ]
  },
  {
   "cell_type": "markdown",
   "metadata": {},
   "source": [
    "### Store Part I results into DataFrame\n",
    "* Load the csv exported in Part I to a DataFrame"
   ]
  },
  {
   "cell_type": "code",
   "execution_count": 14,
   "metadata": {},
   "outputs": [
    {
     "output_type": "stream",
     "name": "stdout",
     "text": [
      "Data loaded from cache\n"
     ]
    },
    {
     "output_type": "execute_result",
     "data": {
      "text/plain": [
       "          Lng        Lat           City Country  Max Temp  Humidity  \\\n",
       "0   42.547521 -69.659974    port alfred      za    248.38        98   \n",
       "1   -3.535401   0.690837           axim      gh    300.56        76   \n",
       "2 -148.309941   5.374525           hilo      us    300.33        82   \n",
       "3   50.876688  71.751869  belushya guba      ru    272.64        98   \n",
       "4   89.088050 -48.883443      busselton      au    281.66        95   \n",
       "\n",
       "   Cloudiness  Wind Speed        Date  \n",
       "0         100        7.23  1622314428  \n",
       "1         100        7.33  1622314429  \n",
       "2           8        5.93  1622314429  \n",
       "3         100        6.63  1622314430  \n",
       "4         100       13.42  1622314430  "
      ],
      "text/html": "<div>\n<style scoped>\n    .dataframe tbody tr th:only-of-type {\n        vertical-align: middle;\n    }\n\n    .dataframe tbody tr th {\n        vertical-align: top;\n    }\n\n    .dataframe thead th {\n        text-align: right;\n    }\n</style>\n<table border=\"1\" class=\"dataframe\">\n  <thead>\n    <tr style=\"text-align: right;\">\n      <th></th>\n      <th>Lng</th>\n      <th>Lat</th>\n      <th>City</th>\n      <th>Country</th>\n      <th>Max Temp</th>\n      <th>Humidity</th>\n      <th>Cloudiness</th>\n      <th>Wind Speed</th>\n      <th>Date</th>\n    </tr>\n  </thead>\n  <tbody>\n    <tr>\n      <th>0</th>\n      <td>42.547521</td>\n      <td>-69.659974</td>\n      <td>port alfred</td>\n      <td>za</td>\n      <td>248.38</td>\n      <td>98</td>\n      <td>100</td>\n      <td>7.23</td>\n      <td>1622314428</td>\n    </tr>\n    <tr>\n      <th>1</th>\n      <td>-3.535401</td>\n      <td>0.690837</td>\n      <td>axim</td>\n      <td>gh</td>\n      <td>300.56</td>\n      <td>76</td>\n      <td>100</td>\n      <td>7.33</td>\n      <td>1622314429</td>\n    </tr>\n    <tr>\n      <th>2</th>\n      <td>-148.309941</td>\n      <td>5.374525</td>\n      <td>hilo</td>\n      <td>us</td>\n      <td>300.33</td>\n      <td>82</td>\n      <td>8</td>\n      <td>5.93</td>\n      <td>1622314429</td>\n    </tr>\n    <tr>\n      <th>3</th>\n      <td>50.876688</td>\n      <td>71.751869</td>\n      <td>belushya guba</td>\n      <td>ru</td>\n      <td>272.64</td>\n      <td>98</td>\n      <td>100</td>\n      <td>6.63</td>\n      <td>1622314430</td>\n    </tr>\n    <tr>\n      <th>4</th>\n      <td>89.088050</td>\n      <td>-48.883443</td>\n      <td>busselton</td>\n      <td>au</td>\n      <td>281.66</td>\n      <td>95</td>\n      <td>100</td>\n      <td>13.42</td>\n      <td>1622314430</td>\n    </tr>\n  </tbody>\n</table>\n</div>"
     },
     "metadata": {},
     "execution_count": 14
    }
   ],
   "source": [
    "cities_df=get_city_weather_df(1000, force_new=False)\n",
    "cities_df.head()"
   ]
  },
  {
   "cell_type": "code",
   "execution_count": 15,
   "metadata": {},
   "outputs": [
    {
     "output_type": "execute_result",
     "data": {
      "text/plain": [
       "    longitude   latitude           City Country  Max Temp  Humidity  \\\n",
       "0   42.547521 -69.659974    port alfred      za    248.38        98   \n",
       "1   -3.535401   0.690837           axim      gh    300.56        76   \n",
       "2 -148.309941   5.374525           hilo      us    300.33        82   \n",
       "3   50.876688  71.751869  belushya guba      ru    272.64        98   \n",
       "4   89.088050 -48.883443      busselton      au    281.66        95   \n",
       "\n",
       "   Cloudiness  Wind Speed        Date  \n",
       "0         100        7.23  1622314428  \n",
       "1         100        7.33  1622314429  \n",
       "2           8        5.93  1622314429  \n",
       "3         100        6.63  1622314430  \n",
       "4         100       13.42  1622314430  "
      ],
      "text/html": "<div>\n<style scoped>\n    .dataframe tbody tr th:only-of-type {\n        vertical-align: middle;\n    }\n\n    .dataframe tbody tr th {\n        vertical-align: top;\n    }\n\n    .dataframe thead th {\n        text-align: right;\n    }\n</style>\n<table border=\"1\" class=\"dataframe\">\n  <thead>\n    <tr style=\"text-align: right;\">\n      <th></th>\n      <th>longitude</th>\n      <th>latitude</th>\n      <th>City</th>\n      <th>Country</th>\n      <th>Max Temp</th>\n      <th>Humidity</th>\n      <th>Cloudiness</th>\n      <th>Wind Speed</th>\n      <th>Date</th>\n    </tr>\n  </thead>\n  <tbody>\n    <tr>\n      <th>0</th>\n      <td>42.547521</td>\n      <td>-69.659974</td>\n      <td>port alfred</td>\n      <td>za</td>\n      <td>248.38</td>\n      <td>98</td>\n      <td>100</td>\n      <td>7.23</td>\n      <td>1622314428</td>\n    </tr>\n    <tr>\n      <th>1</th>\n      <td>-3.535401</td>\n      <td>0.690837</td>\n      <td>axim</td>\n      <td>gh</td>\n      <td>300.56</td>\n      <td>76</td>\n      <td>100</td>\n      <td>7.33</td>\n      <td>1622314429</td>\n    </tr>\n    <tr>\n      <th>2</th>\n      <td>-148.309941</td>\n      <td>5.374525</td>\n      <td>hilo</td>\n      <td>us</td>\n      <td>300.33</td>\n      <td>82</td>\n      <td>8</td>\n      <td>5.93</td>\n      <td>1622314429</td>\n    </tr>\n    <tr>\n      <th>3</th>\n      <td>50.876688</td>\n      <td>71.751869</td>\n      <td>belushya guba</td>\n      <td>ru</td>\n      <td>272.64</td>\n      <td>98</td>\n      <td>100</td>\n      <td>6.63</td>\n      <td>1622314430</td>\n    </tr>\n    <tr>\n      <th>4</th>\n      <td>89.088050</td>\n      <td>-48.883443</td>\n      <td>busselton</td>\n      <td>au</td>\n      <td>281.66</td>\n      <td>95</td>\n      <td>100</td>\n      <td>13.42</td>\n      <td>1622314430</td>\n    </tr>\n  </tbody>\n</table>\n</div>"
     },
     "metadata": {},
     "execution_count": 15
    }
   ],
   "source": [
    "cities_df.rename(columns={\"Lng\": \"longitude\", \"Lat\": \"latitude\"}, inplace=True)\n",
    "cities_df.head()"
   ]
  },
  {
   "cell_type": "code",
   "execution_count": 16,
   "metadata": {},
   "outputs": [
    {
     "output_type": "execute_result",
     "data": {
      "text/plain": [
       "         longitude     latitude     Max Temp     Humidity   Cloudiness  \\\n",
       "count  1000.000000  1000.000000  1000.000000  1000.000000  1000.000000   \n",
       "mean     -1.832621    -0.658573   280.009930    76.581000    66.786000   \n",
       "std     102.831126    52.826910    21.500725    19.214282    39.626765   \n",
       "min    -179.732615   -89.998294   213.870000     6.000000     0.000000   \n",
       "25%     -91.357243   -47.738110   272.347500    71.000000    23.000000   \n",
       "50%      -1.278046     0.598697   283.245000    80.000000    94.500000   \n",
       "75%      86.029047    44.743514   297.482500    90.000000   100.000000   \n",
       "max     179.926128    89.933004   312.040000   100.000000   100.000000   \n",
       "\n",
       "        Wind Speed          Date  \n",
       "count  1000.000000  1.000000e+03  \n",
       "mean      6.352630  1.622315e+09  \n",
       "std       3.529759  1.203921e+02  \n",
       "min       0.390000  1.622314e+09  \n",
       "25%       3.637500  1.622315e+09  \n",
       "50%       5.985000  1.622315e+09  \n",
       "75%       8.332500  1.622315e+09  \n",
       "max      19.760000  1.622315e+09  "
      ],
      "text/html": "<div>\n<style scoped>\n    .dataframe tbody tr th:only-of-type {\n        vertical-align: middle;\n    }\n\n    .dataframe tbody tr th {\n        vertical-align: top;\n    }\n\n    .dataframe thead th {\n        text-align: right;\n    }\n</style>\n<table border=\"1\" class=\"dataframe\">\n  <thead>\n    <tr style=\"text-align: right;\">\n      <th></th>\n      <th>longitude</th>\n      <th>latitude</th>\n      <th>Max Temp</th>\n      <th>Humidity</th>\n      <th>Cloudiness</th>\n      <th>Wind Speed</th>\n      <th>Date</th>\n    </tr>\n  </thead>\n  <tbody>\n    <tr>\n      <th>count</th>\n      <td>1000.000000</td>\n      <td>1000.000000</td>\n      <td>1000.000000</td>\n      <td>1000.000000</td>\n      <td>1000.000000</td>\n      <td>1000.000000</td>\n      <td>1.000000e+03</td>\n    </tr>\n    <tr>\n      <th>mean</th>\n      <td>-1.832621</td>\n      <td>-0.658573</td>\n      <td>280.009930</td>\n      <td>76.581000</td>\n      <td>66.786000</td>\n      <td>6.352630</td>\n      <td>1.622315e+09</td>\n    </tr>\n    <tr>\n      <th>std</th>\n      <td>102.831126</td>\n      <td>52.826910</td>\n      <td>21.500725</td>\n      <td>19.214282</td>\n      <td>39.626765</td>\n      <td>3.529759</td>\n      <td>1.203921e+02</td>\n    </tr>\n    <tr>\n      <th>min</th>\n      <td>-179.732615</td>\n      <td>-89.998294</td>\n      <td>213.870000</td>\n      <td>6.000000</td>\n      <td>0.000000</td>\n      <td>0.390000</td>\n      <td>1.622314e+09</td>\n    </tr>\n    <tr>\n      <th>25%</th>\n      <td>-91.357243</td>\n      <td>-47.738110</td>\n      <td>272.347500</td>\n      <td>71.000000</td>\n      <td>23.000000</td>\n      <td>3.637500</td>\n      <td>1.622315e+09</td>\n    </tr>\n    <tr>\n      <th>50%</th>\n      <td>-1.278046</td>\n      <td>0.598697</td>\n      <td>283.245000</td>\n      <td>80.000000</td>\n      <td>94.500000</td>\n      <td>5.985000</td>\n      <td>1.622315e+09</td>\n    </tr>\n    <tr>\n      <th>75%</th>\n      <td>86.029047</td>\n      <td>44.743514</td>\n      <td>297.482500</td>\n      <td>90.000000</td>\n      <td>100.000000</td>\n      <td>8.332500</td>\n      <td>1.622315e+09</td>\n    </tr>\n    <tr>\n      <th>max</th>\n      <td>179.926128</td>\n      <td>89.933004</td>\n      <td>312.040000</td>\n      <td>100.000000</td>\n      <td>100.000000</td>\n      <td>19.760000</td>\n      <td>1.622315e+09</td>\n    </tr>\n  </tbody>\n</table>\n</div>"
     },
     "metadata": {},
     "execution_count": 16
    }
   ],
   "source": [
    "cities_df.describe()"
   ]
  },
  {
   "source": [
    "Looks like temps are in Kelvin.\n",
    "Lets convert temperature in Kelvin to Celcius."
   ],
   "cell_type": "markdown",
   "metadata": {}
  },
  {
   "cell_type": "code",
   "execution_count": 21,
   "metadata": {},
   "outputs": [],
   "source": [
    "cities_df['Max Temp'] =  cities_df['Max Temp'] - 273.15"
   ]
  },
  {
   "cell_type": "code",
   "execution_count": 22,
   "metadata": {},
   "outputs": [
    {
     "output_type": "execute_result",
     "data": {
      "text/plain": [
       "         longitude     latitude     Max Temp     Humidity   Cloudiness  \\\n",
       "count  1000.000000  1000.000000  1000.000000  1000.000000  1000.000000   \n",
       "mean     -1.832621    -0.658573     6.859930    76.581000    66.786000   \n",
       "std     102.831126    52.826910    21.500725    19.214282    39.626765   \n",
       "min    -179.732615   -89.998294   -59.280000     6.000000     0.000000   \n",
       "25%     -91.357243   -47.738110    -0.802500    71.000000    23.000000   \n",
       "50%      -1.278046     0.598697    10.095000    80.000000    94.500000   \n",
       "75%      86.029047    44.743514    24.332500    90.000000   100.000000   \n",
       "max     179.926128    89.933004    38.890000   100.000000   100.000000   \n",
       "\n",
       "        Wind Speed          Date  \n",
       "count  1000.000000  1.000000e+03  \n",
       "mean      6.352630  1.622315e+09  \n",
       "std       3.529759  1.203921e+02  \n",
       "min       0.390000  1.622314e+09  \n",
       "25%       3.637500  1.622315e+09  \n",
       "50%       5.985000  1.622315e+09  \n",
       "75%       8.332500  1.622315e+09  \n",
       "max      19.760000  1.622315e+09  "
      ],
      "text/html": "<div>\n<style scoped>\n    .dataframe tbody tr th:only-of-type {\n        vertical-align: middle;\n    }\n\n    .dataframe tbody tr th {\n        vertical-align: top;\n    }\n\n    .dataframe thead th {\n        text-align: right;\n    }\n</style>\n<table border=\"1\" class=\"dataframe\">\n  <thead>\n    <tr style=\"text-align: right;\">\n      <th></th>\n      <th>longitude</th>\n      <th>latitude</th>\n      <th>Max Temp</th>\n      <th>Humidity</th>\n      <th>Cloudiness</th>\n      <th>Wind Speed</th>\n      <th>Date</th>\n    </tr>\n  </thead>\n  <tbody>\n    <tr>\n      <th>count</th>\n      <td>1000.000000</td>\n      <td>1000.000000</td>\n      <td>1000.000000</td>\n      <td>1000.000000</td>\n      <td>1000.000000</td>\n      <td>1000.000000</td>\n      <td>1.000000e+03</td>\n    </tr>\n    <tr>\n      <th>mean</th>\n      <td>-1.832621</td>\n      <td>-0.658573</td>\n      <td>6.859930</td>\n      <td>76.581000</td>\n      <td>66.786000</td>\n      <td>6.352630</td>\n      <td>1.622315e+09</td>\n    </tr>\n    <tr>\n      <th>std</th>\n      <td>102.831126</td>\n      <td>52.826910</td>\n      <td>21.500725</td>\n      <td>19.214282</td>\n      <td>39.626765</td>\n      <td>3.529759</td>\n      <td>1.203921e+02</td>\n    </tr>\n    <tr>\n      <th>min</th>\n      <td>-179.732615</td>\n      <td>-89.998294</td>\n      <td>-59.280000</td>\n      <td>6.000000</td>\n      <td>0.000000</td>\n      <td>0.390000</td>\n      <td>1.622314e+09</td>\n    </tr>\n    <tr>\n      <th>25%</th>\n      <td>-91.357243</td>\n      <td>-47.738110</td>\n      <td>-0.802500</td>\n      <td>71.000000</td>\n      <td>23.000000</td>\n      <td>3.637500</td>\n      <td>1.622315e+09</td>\n    </tr>\n    <tr>\n      <th>50%</th>\n      <td>-1.278046</td>\n      <td>0.598697</td>\n      <td>10.095000</td>\n      <td>80.000000</td>\n      <td>94.500000</td>\n      <td>5.985000</td>\n      <td>1.622315e+09</td>\n    </tr>\n    <tr>\n      <th>75%</th>\n      <td>86.029047</td>\n      <td>44.743514</td>\n      <td>24.332500</td>\n      <td>90.000000</td>\n      <td>100.000000</td>\n      <td>8.332500</td>\n      <td>1.622315e+09</td>\n    </tr>\n    <tr>\n      <th>max</th>\n      <td>179.926128</td>\n      <td>89.933004</td>\n      <td>38.890000</td>\n      <td>100.000000</td>\n      <td>100.000000</td>\n      <td>19.760000</td>\n      <td>1.622315e+09</td>\n    </tr>\n  </tbody>\n</table>\n</div>"
     },
     "metadata": {},
     "execution_count": 22
    }
   ],
   "source": [
    "cities_df.describe()"
   ]
  },
  {
   "cell_type": "markdown",
   "metadata": {},
   "source": [
    "### Humidity Heatmap\n",
    "* Configure gmaps.\n",
    "* Use the Lat and Lng as locations and Humidity as the weight.\n",
    "* Add Heatmap layer to map."
   ]
  },
  {
   "cell_type": "code",
   "execution_count": 17,
   "metadata": {},
   "outputs": [
    {
     "output_type": "execute_result",
     "data": {
      "text/plain": [
       "    longitude   latitude           City Country  Max Temp  Humidity  \\\n",
       "0   42.547521 -69.659974    port alfred      za    248.38        98   \n",
       "1   -3.535401   0.690837           axim      gh    300.56        76   \n",
       "2 -148.309941   5.374525           hilo      us    300.33        82   \n",
       "3   50.876688  71.751869  belushya guba      ru    272.64        98   \n",
       "4   89.088050 -48.883443      busselton      au    281.66        95   \n",
       "\n",
       "   Cloudiness  Wind Speed        Date  \\\n",
       "0         100        7.23  1622314428   \n",
       "1         100        7.33  1622314429   \n",
       "2           8        5.93  1622314429   \n",
       "3         100        6.63  1622314430   \n",
       "4         100       13.42  1622314430   \n",
       "\n",
       "                                     coords  \n",
       "0    (-69.6599737427924, 42.54752062711452)  \n",
       "1  (0.6908368541235603, -3.535400523776815)  \n",
       "2  (5.374525044327214, -148.30994058019303)  \n",
       "3   (71.75186881988515, 50.876688188532256)  \n",
       "4  (-48.883442662971376, 89.08804950082055)  "
      ],
      "text/html": "<div>\n<style scoped>\n    .dataframe tbody tr th:only-of-type {\n        vertical-align: middle;\n    }\n\n    .dataframe tbody tr th {\n        vertical-align: top;\n    }\n\n    .dataframe thead th {\n        text-align: right;\n    }\n</style>\n<table border=\"1\" class=\"dataframe\">\n  <thead>\n    <tr style=\"text-align: right;\">\n      <th></th>\n      <th>longitude</th>\n      <th>latitude</th>\n      <th>City</th>\n      <th>Country</th>\n      <th>Max Temp</th>\n      <th>Humidity</th>\n      <th>Cloudiness</th>\n      <th>Wind Speed</th>\n      <th>Date</th>\n      <th>coords</th>\n    </tr>\n  </thead>\n  <tbody>\n    <tr>\n      <th>0</th>\n      <td>42.547521</td>\n      <td>-69.659974</td>\n      <td>port alfred</td>\n      <td>za</td>\n      <td>248.38</td>\n      <td>98</td>\n      <td>100</td>\n      <td>7.23</td>\n      <td>1622314428</td>\n      <td>(-69.6599737427924, 42.54752062711452)</td>\n    </tr>\n    <tr>\n      <th>1</th>\n      <td>-3.535401</td>\n      <td>0.690837</td>\n      <td>axim</td>\n      <td>gh</td>\n      <td>300.56</td>\n      <td>76</td>\n      <td>100</td>\n      <td>7.33</td>\n      <td>1622314429</td>\n      <td>(0.6908368541235603, -3.535400523776815)</td>\n    </tr>\n    <tr>\n      <th>2</th>\n      <td>-148.309941</td>\n      <td>5.374525</td>\n      <td>hilo</td>\n      <td>us</td>\n      <td>300.33</td>\n      <td>82</td>\n      <td>8</td>\n      <td>5.93</td>\n      <td>1622314429</td>\n      <td>(5.374525044327214, -148.30994058019303)</td>\n    </tr>\n    <tr>\n      <th>3</th>\n      <td>50.876688</td>\n      <td>71.751869</td>\n      <td>belushya guba</td>\n      <td>ru</td>\n      <td>272.64</td>\n      <td>98</td>\n      <td>100</td>\n      <td>6.63</td>\n      <td>1622314430</td>\n      <td>(71.75186881988515, 50.876688188532256)</td>\n    </tr>\n    <tr>\n      <th>4</th>\n      <td>89.088050</td>\n      <td>-48.883443</td>\n      <td>busselton</td>\n      <td>au</td>\n      <td>281.66</td>\n      <td>95</td>\n      <td>100</td>\n      <td>13.42</td>\n      <td>1622314430</td>\n      <td>(-48.883442662971376, 89.08804950082055)</td>\n    </tr>\n  </tbody>\n</table>\n</div>"
     },
     "metadata": {},
     "execution_count": 17
    }
   ],
   "source": [
    "# locations = cities_df[['latitude', 'longitude']]\n",
    "cities_df['coords'] = list(zip(cities_df.latitude, cities_df.longitude))\n",
    "\n",
    "# locations = gmaps.datasets.load_dataset_as_df('acled_africa')\n",
    "\n",
    "cities_df.head()"
   ]
  },
  {
   "cell_type": "code",
   "execution_count": 18,
   "metadata": {},
   "outputs": [
    {
     "output_type": "display_data",
     "data": {
      "text/plain": "Figure(layout=FigureLayout(height='420px'))",
      "application/vnd.jupyter.widget-view+json": {
       "version_major": 2,
       "version_minor": 0,
       "model_id": "c0082308e3454e9cbd272b400d00c667"
      }
     },
     "metadata": {}
    }
   ],
   "source": [
    "fig = gmaps.figure(map_type='HYBRID')\n",
    "heatmap_layer = gmaps.heatmap_layer(cities_df.coords)\n",
    "fig.add_layer(heatmap_layer)\n",
    "fig"
   ]
  },
  {
   "cell_type": "markdown",
   "metadata": {},
   "source": [
    "### Create new DataFrame fitting weather criteria\n",
    "* Narrow down the cities to fit weather conditions.\n",
    "* Drop any rows will null values."
   ]
  },
  {
   "cell_type": "code",
   "execution_count": 39,
   "metadata": {},
   "outputs": [
    {
     "output_type": "execute_result",
     "data": {
      "text/plain": [
       "13"
      ]
     },
     "metadata": {},
     "execution_count": 39
    }
   ],
   "source": [
    "ideal_df = cities_df.copy()\n",
    "ideal_df = ideal_df[ideal_df['Max Temp'] < 27]\n",
    "ideal_df = ideal_df[ideal_df['Max Temp'] > 13]\n",
    "ideal_df = ideal_df[ideal_df['Humidity'] > 20]\n",
    "ideal_df = ideal_df[ideal_df['Humidity'] < 50]\n",
    "ideal_df = ideal_df[ideal_df['Cloudiness'] < 70]\n",
    "ideal_df.dropna(inplace=True)\n",
    "len(ideal_df)"
   ]
  },
  {
   "cell_type": "code",
   "execution_count": 40,
   "metadata": {},
   "outputs": [
    {
     "output_type": "display_data",
     "data": {
      "text/plain": "Figure(layout=FigureLayout(height='420px'))",
      "application/vnd.jupyter.widget-view+json": {
       "version_major": 2,
       "version_minor": 0,
       "model_id": "39c8bc43156c4ceba416de603a931a40"
      }
     },
     "metadata": {}
    }
   ],
   "source": [
    "fig = gmaps.figure(map_type='HYBRID')\n",
    "heatmap_layer = gmaps.heatmap_layer(ideal_df.coords)\n",
    "fig.add_layer(heatmap_layer)\n",
    "fig"
   ]
  },
  {
   "cell_type": "markdown",
   "metadata": {},
   "source": [
    "### Hotel Map\n",
    "* Store into variable named `hotel_df`.\n",
    "* Add a \"Hotel Name\" column to the DataFrame.\n",
    "* Set parameters to search for hotels with 5000 meters.\n",
    "* Hit the Google Places API for each city's coordinates.\n",
    "* Store the first Hotel result into the DataFrame.\n",
    "* Plot markers on top of the heatmap."
   ]
  },
  {
   "cell_type": "code",
   "execution_count": 91,
   "metadata": {},
   "outputs": [],
   "source": [
    "hotels_data = {\n",
    "    \"Hotel Name\": [],\n",
    "    \"City\": [],\n",
    "    \"Country\": [],\n",
    "    \"Lat\": [],\n",
    "    \"Lng\": [],\n",
    "}"
   ]
  },
  {
   "cell_type": "code",
   "execution_count": 92,
   "metadata": {},
   "outputs": [],
   "source": [
    "def get_place(lat, lon):\n",
    "    url = \"https://maps.googleapis.com/maps/api/place/nearbysearch/json?\"\n",
    "    print('\\n\\n\\n\\n', f'circle:5000@{lat},{lon}')\n",
    "    response = requests.get(\n",
    "        url +\n",
    "        f'location={lat},{lon}&radius=5000&type=hotel' +\n",
    "        '&key='  + g_key\n",
    "    )\n",
    "    response.raise_for_status()\n",
    "\n",
    "    json_data = response.json()\n",
    "    results = json_data['results']\n",
    "\n",
    "    if len(results) == 0:\n",
    "        return None\n",
    "\n",
    "    result = results[0]    \n",
    "    return {\n",
    "        \"place_id\": result['place_id'],\n",
    "        \"name\": result['name'],\n",
    "        \"lat\": result['geometry']['location']['lat'],\n",
    "        \"lng\": result['geometry']['location']['lng'],\n",
    "    }\n",
    "\n",
    "\n",
    "def get_place_detail(place_id):\n",
    "    url = \"https://maps.googleapis.com/maps/api/place/details/json?\"\n",
    "    response = requests.get(\n",
    "        url +\n",
    "        f'place_id={place_id}' +\n",
    "        '&key='  + g_key\n",
    "    )\n",
    "    response.raise_for_status()\n",
    "\n",
    "    json_data = response.json()\n",
    "    result = json_data['result']\n",
    "    print('\\n\\n\\n\\n', result)\n",
    "   \n",
    "    return {\n",
    "        \"place_id\": result['place_id'],\n",
    "        \"Hotel Name\": result['name'],\n",
    "        \"Lat\": result['geometry']['location']['lat'],\n",
    "        \"Lng\": result['geometry']['location']['lng'],\n",
    "        \"City\": next(filter(lambda x: 'locality' in x['types'] or 'administrative_area_level_1' in x['types'], result['address_components']))['short_name'],\n",
    "        \"Country\": next(filter(lambda x: 'country' in x['types'], result['address_components']))['long_name'],\n",
    "    }"
   ]
  },
  {
   "cell_type": "code",
   "execution_count": 93,
   "metadata": {
    "tags": [
     "outputPrepend"
    ]
   },
   "outputs": [
    {
     "output_type": "stream",
     "name": "stdout",
     "text": [
      "22 Trans-Canada Hwy, Division No. 5, Subd. E, NL A0K, Canada', 'formatted_phone_number': '(709) 638-3529', 'geometry': {'location': {'lat': 49.3773113, 'lng': -56.9895145}, 'viewport': {'northeast': {'lat': 49.3785276802915, 'lng': -56.9878366697085}, 'southwest': {'lat': 49.3758297197085, 'lng': -56.9905346302915}}}, 'icon': 'https://maps.gstatic.com/mapfiles/place_api/icons/v1/png_71/restaurant-71.png', 'international_phone_number': '+1 709-638-3529', 'name': 'White Bay Restaurant', 'opening_hours': {'open_now': True, 'periods': [{'close': {'day': 0, 'time': '2200'}, 'open': {'day': 0, 'time': '0700'}}, {'close': {'day': 1, 'time': '2200'}, 'open': {'day': 1, 'time': '0700'}}, {'close': {'day': 2, 'time': '2200'}, 'open': {'day': 2, 'time': '0700'}}, {'close': {'day': 3, 'time': '2200'}, 'open': {'day': 3, 'time': '0700'}}, {'close': {'day': 4, 'time': '2200'}, 'open': {'day': 4, 'time': '0700'}}, {'close': {'day': 5, 'time': '2200'}, 'open': {'day': 5, 'time': '0700'}}, {'close': {'day': 6, 'time': '2200'}, 'open': {'day': 6, 'time': '0700'}}], 'weekday_text': ['Monday: 7:00 AM – 10:00 PM', 'Tuesday: 7:00 AM – 10:00 PM', 'Wednesday: 7:00 AM – 10:00 PM', 'Thursday: 7:00 AM – 10:00 PM', 'Friday: 7:00 AM – 10:00 PM', 'Saturday: 7:00 AM – 10:00 PM', 'Sunday: 7:00 AM – 10:00 PM']}, 'photos': [{'height': 3024, 'html_attributions': ['<a href=\"https://maps.google.com/maps/contrib/105338329313398326327\">Seb Furtado</a>'], 'photo_reference': 'ATtYBwKUh5rECFxgvQETcZYAmJKTLMwTQIjlRAxgoyu2y6Y8YdlJSjFfmr52yXws_wg-GcYqt-GKCMQ2dlKI903ZT3JkuHsh_8jotfOKJU2TdYQqcK4wmRC8lAOBBf4lMFeuRs1LezlgD7pSi5jtnW_-gY44NNsD5qrVprCavGnwvMRojBg', 'width': 4032}, {'height': 3024, 'html_attributions': ['<a href=\"https://maps.google.com/maps/contrib/105338329313398326327\">Seb Furtado</a>'], 'photo_reference': 'ATtYBwKtLyqFuIfphiY_t9dTorVNDeuBEylsr7us1kMgLQbgg8_rb7vkV34mRN0oeDOqao3H1ncseJxCS9wneypSTy1aDQ72LxAAlR4kH7VScc-_BxclLRi4ZPmENN3OTvQ2eSdFc4-UL6VzRg_86dhz-XKwrJZNC5vWNoxyXOiQqn5ohPE', 'width': 4032}, {'height': 4000, 'html_attributions': ['<a href=\"https://maps.google.com/maps/contrib/109704553729141246486\">Troy Godwin</a>'], 'photo_reference': 'ATtYBwL6xulqngxDYiq7omrs9A3AL1eIBQdIBiEgpjoIrFbhTnJi5C6fSYiA3V4NiWZtXcpJ__5L-vMFoLMFNxciema-nJWZQ8qWYF4dy28KH4uH6v9uSsBdUnfeYfS9dN8fCtAhl-Zd5FRiPFH0uYBXzm3fFCNxWN5tK0BE99iYLjcF2r5C', 'width': 1824}], 'place_id': 'ChIJFSFLbNiaeUsRSMYqsJY5PDg', 'plus_code': {'global_code': '88X592G6+W5'}, 'rating': 4.6, 'reference': 'ChIJFSFLbNiaeUsRSMYqsJY5PDg', 'reviews': [{'author_name': 'Amanda Young', 'author_url': 'https://www.google.com/maps/contrib/107303108529526468021/reviews', 'language': 'en', 'profile_photo_url': 'https://lh3.googleusercontent.com/a-/AOh14Gic-PAC0OO5jv67G91IvtPOU8lkIPKlbT-_kPkDdg=s128-c0x00000000-cc-rp-mo', 'rating': 5, 'relative_time_description': '9 months ago', 'text': 'Was great! Tasty food/friendly staff! Someone paid for our food and nobody would tell us who lol but thank you from Nana & myself', 'time': 1597616248}, {'author_name': 'Terry Simon', 'author_url': 'https://www.google.com/maps/contrib/110270775214381368223/reviews', 'language': 'en', 'profile_photo_url': 'https://lh3.googleusercontent.com/a-/AOh14GgCwRs00eP8eR-ova6qU_QKm-wnoeMECM7iLLHvOg=s128-c0x00000000-cc-rp-mo', 'rating': 3, 'relative_time_description': '10 months ago', 'text': \"Hi, didn't serve no salt and pepper, have to ask for everything, ketchup, ect. Long wait for meal.\\nCould improve on speed and hospitality. No potatoes in Turkey vegetable soup, the special. To much turnip. Other than that, everything would've been good.\", 'time': 1594529194}, {'author_name': 'Monique Parsons', 'author_url': 'https://www.google.com/maps/contrib/106590264939127069757/reviews', 'language': 'en', 'profile_photo_url': 'https://lh3.googleusercontent.com/a/AATXAJxH7oHcCr27rqbfEd_MwHCjYv_XD9qOMCjU53KY=s128-c0x00000000-cc-rp-mo', 'rating': 5, 'relative_time_description': '9 months ago', 'text': 'The food and service was excellent. It was our first visit but certainly not the last', 'time': 1596923238}, {'author_name': 'Dwight Baldwin', 'author_url': 'https://www.google.com/maps/contrib/100852400409350112693/reviews', 'language': 'en', 'profile_photo_url': 'https://lh3.googleusercontent.com/a-/AOh14Gj1lCYMRTmmROyqrjR3BhT4nwo9wkXjyEmBdoJw=s128-c0x00000000-cc-rp-mo', 'rating': 5, 'relative_time_description': '9 months ago', 'text': 'Fast, friendly service. Excellent food and big portions', 'time': 1598923140}, {'author_name': 'Victor POIRIER', 'author_url': 'https://www.google.com/maps/contrib/113421500421885119754/reviews', 'language': 'en', 'profile_photo_url': 'https://lh3.googleusercontent.com/a/AATXAJy8ptmcNhZvrctbb64I5haBvkGDlg5kDyWKToeo=s128-c0x00000000-cc-rp-mo', 'rating': 5, 'relative_time_description': 'a month ago', 'text': 'Breakfast made like your mother made it !', 'time': 1619265341}], 'types': ['restaurant', 'food', 'point_of_interest', 'establishment'], 'url': 'https://maps.google.com/?cid=4052177084090074696', 'user_ratings_total': 16, 'utc_offset': -150, 'vicinity': '1522 Trans-Canada Highway, Division No. 5, Subd. E'}\n",
      "\n",
      "\n",
      "\n",
      "\n",
      " circle:5000@-8.019011785985583,-77.74761144862087\n",
      "\n",
      "\n",
      "\n",
      "\n",
      " {'address_components': [{'long_name': 'Sarín District', 'short_name': 'Sarín District', 'types': ['locality', 'political']}, {'long_name': 'Sánchez Carrión Province', 'short_name': 'Sánchez Carrión Province', 'types': ['administrative_area_level_2', 'political']}, {'long_name': 'La Libertad', 'short_name': 'La Libertad', 'types': ['administrative_area_level_1', 'political']}, {'long_name': 'Peru', 'short_name': 'PE', 'types': ['country', 'political']}], 'adr_address': '<span class=\"locality\">Sarín District</span>, <span class=\"country-name\">Peru</span>', 'formatted_address': 'Sarín District, Peru', 'geometry': {'location': {'lat': -7.932923499999999, 'lng': -77.85959629999999}, 'viewport': {'northeast': {'lat': -7.823503860347079, 'lng': -77.71934517305272}, 'southwest': {'lat': -8.01291118791738, 'lng': -78.02889354686629}}}, 'icon': 'https://maps.gstatic.com/mapfiles/place_api/icons/v1/png_71/geocode-71.png', 'name': 'Sarín District', 'photos': [{'height': 720, 'html_attributions': ['<a href=\"https://maps.google.com/maps/contrib/104626372239523353163\">Anali Reyes</a>'], 'photo_reference': 'ATtYBwL5yyzlSoxGYHsdAPW19xHcJX27Evfn4m41hqK1IHFH4bihxmtVPLJAbrzqxr7Q9zuVpkAtomBWY6fEUp9EKtOKLJkjWVHKoRcJsWxzx7FSs0Ue13ls5Yv8C3fUIv_2vqZ6KFOMPnoNrtPcKtOrI_D-s6vPfJoug7Vl4K89PO3a7x51', 'width': 960}], 'place_id': 'ChIJI9Gw5FwKrpERMu_WEsd8wqM', 'reference': 'ChIJI9Gw5FwKrpERMu_WEsd8wqM', 'types': ['locality', 'political'], 'url': 'https://maps.google.com/?q=Sar%C3%ADn+District,+Peru&ftid=0x91ae0a5ce4b0d123:0xa3c27cc712d6ef32', 'utc_offset': -300, 'vicinity': 'Sarín District'}\n",
      "\n",
      "\n",
      "\n",
      "\n",
      " circle:5000@48.51597836569226,-103.4472902420239\n",
      "\n",
      "\n",
      "\n",
      "\n",
      " circle:5000@36.87939912898973,47.43863924810634\n",
      "\n",
      "\n",
      "\n",
      "\n",
      " {'address_components': [{'long_name': 'Pari', 'short_name': 'Pari', 'types': ['locality', 'political']}, {'long_name': 'Zanjan Province', 'short_name': 'Zanjan Province', 'types': ['administrative_area_level_1', 'political']}, {'long_name': 'Iran', 'short_name': 'IR', 'types': ['country', 'political']}], 'adr_address': '<span class=\"locality\">Pari</span>, <span class=\"region\">Zanjan Province</span>, <span class=\"country-name\">Iran</span>', 'formatted_address': 'Pari, Zanjan Province, Iran', 'geometry': {'location': {'lat': 36.8770851, 'lng': 47.4179955}, 'viewport': {'northeast': {'lat': 36.88085639441326, 'lng': 47.4260473377368}, 'southwest': {'lat': 36.8726861251583, 'lng': 47.41106993606266}}}, 'icon': 'https://maps.gstatic.com/mapfiles/place_api/icons/v1/png_71/geocode-71.png', 'name': 'Pari', 'photos': [{'height': 3456, 'html_attributions': ['<a href=\"https://maps.google.com/maps/contrib/107428765381806924890\">سیدحسین حسینی</a>'], 'photo_reference': 'ATtYBwK4BTL4hq8-TuUxoK7EyqSggVyeQ1m6EpdJofjq1JNB675y7dOgSHvJZbJ8AQVJlqlJvWimsHc71HOkj0JDuwjjlQPwnT44IkZ41ih7dHkyWGCo1DBlNF5Q9nTSorf9yEw3bUqRb09OQ8WYc-mz2kt9XcUUsXE554JYH27awDLMQthZ', 'width': 4608}, {'height': 2592, 'html_attributions': ['<a href=\"https://maps.google.com/maps/contrib/107428765381806924890\">سیدحسین حسینی</a>'], 'photo_reference': 'ATtYBwL3NMxgr5LZSHqddLes3jvNgy2ArlvjjK6ZAwq2oXmUowxdSWmoGOrZWsK8Ts3Kf1nkVuPMg-YDVfHDXtSoCHGclM4WM-b4IIAAAq3EAMkpzUQC4Va0BKwMrvSLAXmjc-GzYLZoLZtSjGtSYnSGTKYYS65dvfKSzsmGlByzkHuTT5i_', 'width': 4608}, {'height': 3456, 'html_attributions': ['<a href=\"https://maps.google.com/maps/contrib/107428765381806924890\">سیدحسین حسینی</a>'], 'photo_reference': 'ATtYBwL50_YjUXEjOACf4qAdZnqhezln3I2Qw-bYfIFNUynJRBxXoYSa5QVZW0rHKf5fgC66feKOzLgj-uQh4m5fkfY8Gi-Nxajw6o_WxTDkhl8_LobpLmY7zmSLM-jrTO0gCC4DInAdMyiK3amXCjx2p7a9u7TcYHapN0fL5DUmP2AyM0Oi', 'width': 4608}, {'height': 600, 'html_attributions': ['<a href=\"https://maps.google.com/maps/contrib/111191482233476478884\">Local Guide ۰۹۳۰۳۹۸۶۷۲۷ تماس</a>'], 'photo_reference': 'ATtYBwJk3p8srCbT0-RXHwWGcUrOu9c5vpkM6MUlvKwCDnS8HY6G-ANlFvE6BhpYjgc9dXkrA8X1UJCkd84KbVuGBuPB2nwobetJqYq8rZcKunriZq-8vZjoZTgDs9oDWSPJlxU4Jx3SyUaisdd4T0yoSd_xHAJpYPgJeJURrrI7-R9B6F1U', 'width': 500}, {'height': 3456, 'html_attributions': ['<a href=\"https://maps.google.com/maps/contrib/107428765381806924890\">سیدحسین حسینی</a>'], 'photo_reference': 'ATtYBwJMrgYNK55nczB2koSXsQbic0gQ1U9t-G_1775dqzC-xq11FRCHcwY6rfpej1dBxTepyz0cV8JyP3fhId6sW5Q01OErJn5ehklVCFI3hO4kXTg2lYoTPS8O7anm5aU4MCw7QKVkTDfQ-CCGMVR7WibjSmO_vYHKhud7aqFvWSUGq2Td', 'width': 4608}, {'height': 640, 'html_attributions': ['<a href=\"https://maps.google.com/maps/contrib/107045538881535689128\">Kader haghighi</a>'], 'photo_reference': 'ATtYBwK2koE49JzDcbFUMXe3RlNYodyu-di53SbFpi_hyLlWvFBKjqQOwXJyN6tHlB4V_TQbbeC99ld3B19MhtdgU5BXgzTvFmaTvGr9y3d_QrdIMWSrp1cqgS_CtPL8usaeHVCpZOdw4_moSxXOSLAoWtjCAszHnn7KJHj9iNs63ovSNde7', 'width': 640}, {'height': 3456, 'html_attributions': ['<a href=\"https://maps.google.com/maps/contrib/107428765381806924890\">سیدحسین حسینی</a>'], 'photo_reference': 'ATtYBwIzI1HtCHyb2tveT50o8O4BwGs_ZbhjbcrGzmHWyNYCL7fXTHhTS4YGFyWWmsBO_hMcqK9v_Fjb3miZ161g5kOnNPQKC0IhXhI5rCQaIq1be8Vg98TOrE2vu02uBVZ1jJDcz0WL1hUJCVyHYh8hI22QEsURMbArgoJd8__bXiKHkX-6', 'width': 4608}, {'height': 2560, 'html_attributions': ['<a href=\"https://maps.google.com/maps/contrib/107045538881535689128\">Kader haghighi</a>'], 'photo_reference': 'ATtYBwK1A0Xx_1bhvAE8IlOHlEY3G_qP6LbHbK7KyFKoqtIRsAIJg4pS68R6E99DGHocilWwcHZwm-RnrblPw2aVwxSZBo_qRr2UVhcsikC2NNvfUbj2nZNyc-Cfm9Rwxc72Ms-w-C2Wpm_yiPvGS_hecqmhtnPWcEP6gDWczmp5qHoGiWjn', 'width': 1440}, {'height': 2560, 'html_attributions': ['<a href=\"https://maps.google.com/maps/contrib/103625501656481417824\">Xalida Xalida</a>'], 'photo_reference': 'ATtYBwKcNn64KK7KmbC3MsBhqWjVtpar-Zq0KRTyI9gWU4Tt8NUlwTkg3zH4omGxl-yr_niO_hkGVYwSvtQw6YbDrowgTSXlR7zmUKUWN0aaRiXZKeud7vJ7ZgycDgvfJRjDELZFOEwrDngA99XV5Rrkdrj4FqHyz0RkwqfaNfPBeBooc4ZU', 'width': 1920}, {'height': 3456, 'html_attributions': ['<a href=\"https://maps.google.com/maps/contrib/107428765381806924890\">سیدحسین حسینی</a>'], 'photo_reference': 'ATtYBwLXomoQoAnudiWvwlyiVMZzHrxBF-B8C4s2RKRZnGnujXosiHKsKUkKFfW9XHMHT_kfewfBMS7QWggp4Z0tmfMHkSPWeeCQStcTVea32WV_4_fvzjlIHQa9xno2O7G8u27LRIF1KL5bPphIFB1noT6dJLT3Ump3nJ0l1Bb1wRTDdcS6', 'width': 4608}], 'place_id': 'ChIJU3HScXADHUARwP49l3w81Ww', 'reference': 'ChIJU3HScXADHUARwP49l3w81Ww', 'types': ['locality', 'political'], 'url': 'https://maps.google.com/?q=Pari,+Zanjan+Province,+Iran&ftid=0x401d037071d27153:0x6cd53c7c973dfec0', 'utc_offset': 270, 'vicinity': 'Pari'}\n",
      "\n",
      "\n",
      "\n",
      "\n",
      " circle:5000@-15.567363967495323,17.361457827177787\n",
      "\n",
      "\n",
      "\n",
      "\n",
      " {'address_components': [{'long_name': 'Techilongo', 'short_name': 'Techilongo', 'types': ['locality', 'political']}, {'long_name': 'Menongue', 'short_name': 'Menongue', 'types': ['administrative_area_level_2', 'political']}, {'long_name': 'Cuando-Cubango', 'short_name': 'Cuando-Cubango', 'types': ['administrative_area_level_1', 'political']}, {'long_name': 'Angola', 'short_name': 'AO', 'types': ['country', 'political']}], 'adr_address': '<span class=\"locality\">Techilongo</span>, <span class=\"country-name\">Angola</span>', 'formatted_address': 'Techilongo, Angola', 'geometry': {'location': {'lat': -15.569041, 'lng': 17.370873}, 'viewport': {'northeast': {'lat': -15.55829214160779, 'lng': 17.38688042377142}, 'southwest': {'lat': -15.57978929657407, 'lng': 17.35486557622858}}}, 'icon': 'https://maps.gstatic.com/mapfiles/place_api/icons/v1/png_71/geocode-71.png', 'name': 'Techilongo', 'place_id': 'ChIJOYouxhfMwRsRW5az-kLUjE8', 'reference': 'ChIJOYouxhfMwRsRW5az-kLUjE8', 'types': ['locality', 'political'], 'url': 'https://maps.google.com/?q=Techilongo,+Angola&ftid=0x1bc1cc17c62e8a39:0x4f8cd442fab3965b', 'utc_offset': 60, 'vicinity': 'Techilongo'}\n",
      "\n",
      "\n",
      "\n",
      "\n",
      " circle:5000@52.37679263140956,76.07500404028934\n",
      "\n",
      "\n",
      "\n",
      "\n",
      " circle:5000@46.37583700633644,95.51518960764832\n",
      "\n",
      "\n",
      "\n",
      "\n",
      " circle:5000@-29.63856715535698,-68.04974592693537\n",
      "\n",
      "\n",
      "\n",
      "\n",
      " circle:5000@-19.941151713922224,24.39193658928372\n",
      "\n",
      "\n",
      "\n",
      "\n",
      " {'address_components': [{'long_name': 'Botswana', 'short_name': 'BW', 'types': ['country', 'political']}, {'long_name': 'North-West District', 'short_name': 'North-West District', 'types': ['administrative_area_level_1', 'political']}], 'adr_address': '<span class=\"country-name\">Botswana</span>', 'formatted_address': 'Botswana', 'geometry': {'location': {'lat': -19.8335355, 'lng': 24.4767423}, 'viewport': {'northeast': {'lat': -19.53002431687092, 'lng': 24.81742863373907}, 'southwest': {'lat': -20.00496757276218, 'lng': 24.18983454988104}}}, 'icon': 'https://maps.gstatic.com/mapfiles/place_api/icons/v1/png_71/park-71.png', 'name': 'NG/47 Concessionaire', 'place_id': 'ChIJjbidXf6aUxkR39Ych_slnXU', 'reference': 'ChIJjbidXf6aUxkR39Ych_slnXU', 'types': ['park', 'premise', 'point_of_interest', 'establishment'], 'url': 'https://maps.google.com/?q=Botswana&ftid=0x19539afe5d9db88d:0x759d25fb871cd6df', 'utc_offset': 120}\n",
      "\n",
      "\n",
      "\n",
      "\n",
      " circle:5000@61.90646405113543,11.246234679584973\n",
      "\n",
      "\n",
      "\n",
      "\n",
      " {'address_components': [{'long_name': 'Rendalen', 'short_name': 'Rendalen', 'types': ['postal_town']}, {'long_name': 'Rendalen', 'short_name': 'Rendalen', 'types': ['administrative_area_level_2', 'political']}, {'long_name': 'Innlandet', 'short_name': 'Innlandet', 'types': ['administrative_area_level_1', 'political']}, {'long_name': 'Norway', 'short_name': 'NO', 'types': ['country', 'political']}, {'long_name': '2485', 'short_name': '2485', 'types': ['postal_code']}], 'adr_address': 'Gnr 52 Bnr 99, <span class=\"postal-code\">2485</span> <span class=\"locality\">Rendalen</span>, <span class=\"country-name\">Norway</span>', 'business_status': 'OPERATIONAL', 'formatted_address': 'Gnr 52 Bnr 99, 2485 Rendalen, Norway', 'formatted_phone_number': '62 44 31 17', 'geometry': {'location': {'lat': 61.8810399, 'lng': 11.2151733}, 'viewport': {'northeast': {'lat': 61.88240648029151, 'lng': 11.2171115302915}, 'southwest': {'lat': 61.87970851970849, 'lng': 11.2144135697085}}}, 'icon': 'https://maps.gstatic.com/mapfiles/place_api/icons/v1/png_71/generic_business-71.png', 'international_phone_number': '+47 62 44 31 17', 'name': 'Arne Thorbjørn Kristiansen', 'place_id': 'ChIJt1_IyHO7a0YR8HtP9L2Y01A', 'plus_code': {'compound_code': 'V6J8+C3 Østagrenda, Norway', 'global_code': '9FHHV6J8+C3'}, 'reference': 'ChIJt1_IyHO7a0YR8HtP9L2Y01A', 'types': ['point_of_interest', 'establishment'], 'url': 'https://maps.google.com/?cid=5824166684735273968', 'utc_offset': 120, 'vicinity': 'Gnr 52 Bnr 99, Rendalen'}\n",
      "\n",
      "\n",
      "\n",
      "\n",
      " circle:5000@44.33659518439029,-93.4305496211162\n",
      "\n",
      "\n",
      "\n",
      "\n",
      " {'address_components': [{'long_name': 'Shieldsville', 'short_name': 'Shieldsville', 'types': ['locality', 'political']}, {'long_name': 'Shieldsville Township', 'short_name': 'Shieldsville Township', 'types': ['administrative_area_level_3', 'political']}, {'long_name': 'Rice County', 'short_name': 'Rice County', 'types': ['administrative_area_level_2', 'political']}, {'long_name': 'Minnesota', 'short_name': 'MN', 'types': ['administrative_area_level_1', 'political']}, {'long_name': 'United States', 'short_name': 'US', 'types': ['country', 'political']}, {'long_name': '55021', 'short_name': '55021', 'types': ['postal_code']}], 'adr_address': '<span class=\"locality\">Shieldsville</span>, <span class=\"region\">MN</span> <span class=\"postal-code\">55021</span>, <span class=\"country-name\">USA</span>', 'formatted_address': 'Shieldsville, MN 55021, USA', 'geometry': {'location': {'lat': 44.3660744, 'lng': -93.4088334}, 'viewport': {'northeast': {'lat': 44.37405055651757, 'lng': -93.3928259762286}, 'southwest': {'lat': 44.35809715727465, 'lng': -93.42484082377143}}}, 'icon': 'https://maps.gstatic.com/mapfiles/place_api/icons/v1/png_71/geocode-71.png', 'name': 'Shieldsville', 'place_id': 'ChIJHf51cuhf9ocRlIVC81_0xXE', 'reference': 'ChIJHf51cuhf9ocRlIVC81_0xXE', 'types': ['locality', 'political'], 'url': 'https://maps.google.com/?q=Shieldsville,+MN+55021,+USA&ftid=0x87f65fe87275fe1d:0x71c5f45ff3428594', 'utc_offset': -300, 'vicinity': 'Shieldsville'}\n",
      "\n",
      "\n",
      "\n",
      "\n",
      " circle:5000@48.70654378107491,-95.6168736990342\n",
      "\n",
      "\n",
      "\n",
      "\n",
      " {'address_components': [{'long_name': 'Pencer', 'short_name': 'Pencer', 'types': ['locality', 'political']}, {'long_name': 'Mickinock Township', 'short_name': 'Mickinock Township', 'types': ['administrative_area_level_3', 'political']}, {'long_name': 'Roseau County', 'short_name': 'Roseau County', 'types': ['administrative_area_level_2', 'political']}, {'long_name': 'Minnesota', 'short_name': 'MN', 'types': ['administrative_area_level_1', 'political']}, {'long_name': 'United States', 'short_name': 'US', 'types': ['country', 'political']}, {'long_name': '56751', 'short_name': '56751', 'types': ['postal_code']}], 'adr_address': '<span class=\"locality\">Pencer</span>, <span class=\"region\">MN</span> <span class=\"postal-code\">56751</span>, <span class=\"country-name\">USA</span>', 'formatted_address': 'Pencer, MN 56751, USA', 'geometry': {'location': {'lat': 48.69914430000001, 'lng': -95.6377605}, 'viewport': {'northeast': {'lat': 48.70650817847056, 'lng': -95.62175307622859}, 'southwest': {'lat': 48.69177934410042, 'lng': -95.65376792377143}}}, 'icon': 'https://maps.gstatic.com/mapfiles/place_api/icons/v1/png_71/geocode-71.png', 'name': 'Pencer', 'place_id': 'ChIJa9dYUapRv1IRhazJ7jWoA9w', 'reference': 'ChIJa9dYUapRv1IRhazJ7jWoA9w', 'types': ['locality', 'political'], 'url': 'https://maps.google.com/?q=Pencer,+MN+56751,+USA&ftid=0x52bf51aa5158d76b:0xdc03a835eec9ac85', 'utc_offset': -300, 'vicinity': 'Pencer'}\n",
      "\n",
      "\n",
      "\n",
      "\n",
      " circle:5000@-18.68796042516034,131.2983524463928\n",
      "\n",
      "\n",
      "\n",
      "\n",
      " {'address_components': [{'long_name': 'Gurindji', 'short_name': 'Gurindji', 'types': ['locality', 'political']}, {'long_name': 'Northern Territory', 'short_name': 'NT', 'types': ['administrative_area_level_1', 'political']}, {'long_name': 'Australia', 'short_name': 'AU', 'types': ['country', 'political']}, {'long_name': '0852', 'short_name': '0852', 'types': ['postal_code']}], 'adr_address': '<span class=\"locality\">Gurindji</span> <span class=\"region\">NT</span> <span class=\"postal-code\">0852</span>, <span class=\"country-name\">Australia</span>', 'formatted_address': 'Gurindji NT 0852, Australia', 'geometry': {'location': {'lat': -17.386853, 'lng': 131.1132758}, 'viewport': {'northeast': {'lat': -17.2204259373884, 'lng': 132.1223199699647}, 'southwest': {'lat': -19.0920436575452, 'lng': 129.4389928884114}}}, 'icon': 'https://maps.gstatic.com/mapfiles/place_api/icons/v1/png_71/geocode-71.png', 'name': 'Gurindji', 'photos': [{'height': 1080, 'html_attributions': ['<a href=\"https://maps.google.com/maps/contrib/118123603781825805970\">Jhody 54</a>'], 'photo_reference': 'ATtYBwIfDCc-7kFd9DU_zd935bRQRlstbNA-IroFsuTF8_hhYSepkbTENBap63VgyXhg-uL_SP9sjxLGuDCnTU_ByW6-HiElzKMtBcsO0Akodp-R7Xz_RpNxj0PSBEjd2NO09uQqYOJ5bOCNpBNUd3u8DmBuX6NCkp-ulpqEVnFdhjIS56F6', 'width': 1920}], 'place_id': 'ChIJB2ItuVwFXysRoEUlKqgXAgQ', 'reference': 'ChIJB2ItuVwFXysRoEUlKqgXAgQ', 'types': ['locality', 'political'], 'url': 'https://maps.google.com/?q=Gurindji+NT+0852,+Australia&ftid=0x2b5f055cb92d6207:0x40217a82a2545a0', 'utc_offset': 570, 'vicinity': 'Gurindji'}\n"
     ]
    }
   ],
   "source": [
    "for index, row in ideal_df.iterrows():\n",
    "\n",
    "    place = get_place(row['latitude'], row['longitude'])\n",
    "    if place is None:\n",
    "        continue\n",
    "\n",
    "    place_detail = get_place_detail(place['place_id'])\n",
    "\n",
    "    hotels_data[\"Hotel Name\"].append(place_detail['Hotel Name'])\n",
    "    hotels_data[\"Lat\"].append(place_detail['Lat'])\n",
    "    hotels_data[\"Lng\"].append(place_detail['Lng'])\n",
    "    hotels_data[\"City\"].append(place_detail['City'])\n",
    "    hotels_data[\"Country\"].append(place_detail['Country'])"
   ]
  },
  {
   "cell_type": "code",
   "execution_count": 94,
   "metadata": {},
   "outputs": [
    {
     "output_type": "execute_result",
     "data": {
      "text/plain": [
       "                   Hotel Name                 City Country        Lat  \\\n",
       "0        White Bay Restaurant                   NL      CA  49.377311   \n",
       "1              Sarín District       Sarín District      PE  -7.932923   \n",
       "2                        Pari                 Pari      IR  36.877085   \n",
       "3                  Techilongo           Techilongo      AO -15.569041   \n",
       "4        NG/47 Concessionaire  North-West District      BW -19.833535   \n",
       "5  Arne Thorbjørn Kristiansen            Innlandet      NO  61.881040   \n",
       "6                Shieldsville         Shieldsville      US  44.366074   \n",
       "7                      Pencer               Pencer      US  48.699144   \n",
       "8                    Gurindji             Gurindji      AU -17.386853   \n",
       "\n",
       "          Lng  \n",
       "0  -56.989514  \n",
       "1  -77.859596  \n",
       "2   47.417996  \n",
       "3   17.370873  \n",
       "4   24.476742  \n",
       "5   11.215173  \n",
       "6  -93.408833  \n",
       "7  -95.637760  \n",
       "8  131.113276  "
      ],
      "text/html": "<div>\n<style scoped>\n    .dataframe tbody tr th:only-of-type {\n        vertical-align: middle;\n    }\n\n    .dataframe tbody tr th {\n        vertical-align: top;\n    }\n\n    .dataframe thead th {\n        text-align: right;\n    }\n</style>\n<table border=\"1\" class=\"dataframe\">\n  <thead>\n    <tr style=\"text-align: right;\">\n      <th></th>\n      <th>Hotel Name</th>\n      <th>City</th>\n      <th>Country</th>\n      <th>Lat</th>\n      <th>Lng</th>\n    </tr>\n  </thead>\n  <tbody>\n    <tr>\n      <th>0</th>\n      <td>White Bay Restaurant</td>\n      <td>NL</td>\n      <td>CA</td>\n      <td>49.377311</td>\n      <td>-56.989514</td>\n    </tr>\n    <tr>\n      <th>1</th>\n      <td>Sarín District</td>\n      <td>Sarín District</td>\n      <td>PE</td>\n      <td>-7.932923</td>\n      <td>-77.859596</td>\n    </tr>\n    <tr>\n      <th>2</th>\n      <td>Pari</td>\n      <td>Pari</td>\n      <td>IR</td>\n      <td>36.877085</td>\n      <td>47.417996</td>\n    </tr>\n    <tr>\n      <th>3</th>\n      <td>Techilongo</td>\n      <td>Techilongo</td>\n      <td>AO</td>\n      <td>-15.569041</td>\n      <td>17.370873</td>\n    </tr>\n    <tr>\n      <th>4</th>\n      <td>NG/47 Concessionaire</td>\n      <td>North-West District</td>\n      <td>BW</td>\n      <td>-19.833535</td>\n      <td>24.476742</td>\n    </tr>\n    <tr>\n      <th>5</th>\n      <td>Arne Thorbjørn Kristiansen</td>\n      <td>Innlandet</td>\n      <td>NO</td>\n      <td>61.881040</td>\n      <td>11.215173</td>\n    </tr>\n    <tr>\n      <th>6</th>\n      <td>Shieldsville</td>\n      <td>Shieldsville</td>\n      <td>US</td>\n      <td>44.366074</td>\n      <td>-93.408833</td>\n    </tr>\n    <tr>\n      <th>7</th>\n      <td>Pencer</td>\n      <td>Pencer</td>\n      <td>US</td>\n      <td>48.699144</td>\n      <td>-95.637760</td>\n    </tr>\n    <tr>\n      <th>8</th>\n      <td>Gurindji</td>\n      <td>Gurindji</td>\n      <td>AU</td>\n      <td>-17.386853</td>\n      <td>131.113276</td>\n    </tr>\n  </tbody>\n</table>\n</div>"
     },
     "metadata": {},
     "execution_count": 94
    }
   ],
   "source": [
    "hotel_df = pd.DataFrame(hotels_data)\n",
    "hotel_df"
   ]
  },
  {
   "cell_type": "code",
   "execution_count": 49,
   "metadata": {},
   "outputs": [
    {
     "output_type": "error",
     "ename": "KeyError",
     "evalue": "'City'",
     "traceback": [
      "\u001b[0;31m---------------------------------------------------------------------------\u001b[0m",
      "\u001b[0;31mKeyError\u001b[0m                                  Traceback (most recent call last)",
      "\u001b[0;32m<ipython-input-49-464b2b3e63ad>\u001b[0m in \u001b[0;36m<module>\u001b[0;34m\u001b[0m\n\u001b[1;32m     11\u001b[0m \u001b[0;31m# Store the DataFrame Row\u001b[0m\u001b[0;34m\u001b[0m\u001b[0;34m\u001b[0m\u001b[0;34m\u001b[0m\u001b[0m\n\u001b[1;32m     12\u001b[0m \u001b[0;31m# NOTE: be sure to update with your DataFrame name\u001b[0m\u001b[0;34m\u001b[0m\u001b[0;34m\u001b[0m\u001b[0;34m\u001b[0m\u001b[0m\n\u001b[0;32m---> 13\u001b[0;31m \u001b[0mhotel_info\u001b[0m \u001b[0;34m=\u001b[0m \u001b[0;34m[\u001b[0m\u001b[0minfo_box_template\u001b[0m\u001b[0;34m.\u001b[0m\u001b[0mformat\u001b[0m\u001b[0;34m(\u001b[0m\u001b[0;34m**\u001b[0m\u001b[0mrow\u001b[0m\u001b[0;34m)\u001b[0m \u001b[0;32mfor\u001b[0m \u001b[0mindex\u001b[0m\u001b[0;34m,\u001b[0m \u001b[0mrow\u001b[0m \u001b[0;32min\u001b[0m \u001b[0mhotel_df\u001b[0m\u001b[0;34m.\u001b[0m\u001b[0miterrows\u001b[0m\u001b[0;34m(\u001b[0m\u001b[0;34m)\u001b[0m\u001b[0;34m]\u001b[0m\u001b[0;34m\u001b[0m\u001b[0;34m\u001b[0m\u001b[0m\n\u001b[0m\u001b[1;32m     14\u001b[0m \u001b[0mlocations\u001b[0m \u001b[0;34m=\u001b[0m \u001b[0mhotel_df\u001b[0m\u001b[0;34m[\u001b[0m\u001b[0;34m[\u001b[0m\u001b[0;34m\"Lat\"\u001b[0m\u001b[0;34m,\u001b[0m \u001b[0;34m\"Lng\"\u001b[0m\u001b[0;34m]\u001b[0m\u001b[0;34m]\u001b[0m\u001b[0;34m\u001b[0m\u001b[0;34m\u001b[0m\u001b[0m\n",
      "\u001b[0;32m<ipython-input-49-464b2b3e63ad>\u001b[0m in \u001b[0;36m<listcomp>\u001b[0;34m(.0)\u001b[0m\n\u001b[1;32m     11\u001b[0m \u001b[0;31m# Store the DataFrame Row\u001b[0m\u001b[0;34m\u001b[0m\u001b[0;34m\u001b[0m\u001b[0;34m\u001b[0m\u001b[0m\n\u001b[1;32m     12\u001b[0m \u001b[0;31m# NOTE: be sure to update with your DataFrame name\u001b[0m\u001b[0;34m\u001b[0m\u001b[0;34m\u001b[0m\u001b[0;34m\u001b[0m\u001b[0m\n\u001b[0;32m---> 13\u001b[0;31m \u001b[0mhotel_info\u001b[0m \u001b[0;34m=\u001b[0m \u001b[0;34m[\u001b[0m\u001b[0minfo_box_template\u001b[0m\u001b[0;34m.\u001b[0m\u001b[0mformat\u001b[0m\u001b[0;34m(\u001b[0m\u001b[0;34m**\u001b[0m\u001b[0mrow\u001b[0m\u001b[0;34m)\u001b[0m \u001b[0;32mfor\u001b[0m \u001b[0mindex\u001b[0m\u001b[0;34m,\u001b[0m \u001b[0mrow\u001b[0m \u001b[0;32min\u001b[0m \u001b[0mhotel_df\u001b[0m\u001b[0;34m.\u001b[0m\u001b[0miterrows\u001b[0m\u001b[0;34m(\u001b[0m\u001b[0;34m)\u001b[0m\u001b[0;34m]\u001b[0m\u001b[0;34m\u001b[0m\u001b[0;34m\u001b[0m\u001b[0m\n\u001b[0m\u001b[1;32m     14\u001b[0m \u001b[0mlocations\u001b[0m \u001b[0;34m=\u001b[0m \u001b[0mhotel_df\u001b[0m\u001b[0;34m[\u001b[0m\u001b[0;34m[\u001b[0m\u001b[0;34m\"Lat\"\u001b[0m\u001b[0;34m,\u001b[0m \u001b[0;34m\"Lng\"\u001b[0m\u001b[0;34m]\u001b[0m\u001b[0;34m]\u001b[0m\u001b[0;34m\u001b[0m\u001b[0;34m\u001b[0m\u001b[0m\n",
      "\u001b[0;31mKeyError\u001b[0m: 'City'"
     ]
    }
   ],
   "source": [
    "# NOTE: Do not change any of the code in this cell\n",
    "\n",
    "# Using the template add the hotel marks to the heatmap\n",
    "info_box_template = \"\"\"\n",
    "<dl>\n",
    "<dt>Name</dt><dd>{Hotel Name}</dd>\n",
    "<dt>City</dt><dd>{City}</dd>\n",
    "<dt>Country</dt><dd>{Country}</dd>\n",
    "</dl>\n",
    "\"\"\"\n",
    "# Store the DataFrame Row\n",
    "# NOTE: be sure to update with your DataFrame name\n",
    "hotel_info = [info_box_template.format(**row) for index, row in hotel_df.iterrows()]\n",
    "locations = hotel_df[[\"Lat\", \"Lng\"]]"
   ]
  },
  {
   "cell_type": "code",
   "execution_count": null,
   "metadata": {},
   "outputs": [],
   "source": [
    "# Add marker layer ontop of heat map\n",
    "\n",
    "\n",
    "# Display figure\n"
   ]
  },
  {
   "cell_type": "code",
   "execution_count": null,
   "metadata": {},
   "outputs": [],
   "source": []
  }
 ],
 "metadata": {
  "kernelspec": {
   "display_name": "Python 3",
   "language": "python",
   "name": "python3"
  },
  "language_info": {
   "codemirror_mode": {
    "name": "ipython",
    "version": 3
   },
   "file_extension": ".py",
   "mimetype": "text/x-python",
   "name": "python",
   "nbconvert_exporter": "python",
   "pygments_lexer": "ipython3",
   "version": "3.8.8"
  },
  "latex_envs": {
   "LaTeX_envs_menu_present": true,
   "autoclose": false,
   "autocomplete": true,
   "bibliofile": "biblio.bib",
   "cite_by": "apalike",
   "current_citInitial": 1,
   "eqLabelWithNumbers": true,
   "eqNumInitial": 1,
   "hotkeys": {
    "equation": "Ctrl-E",
    "itemize": "Ctrl-I"
   },
   "labels_anchors": false,
   "latex_user_defs": false,
   "report_style_numbering": false,
   "user_envs_cfg": false
  }
 },
 "nbformat": 4,
 "nbformat_minor": 4
}